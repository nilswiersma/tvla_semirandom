{
 "cells": [
  {
   "cell_type": "code",
   "execution_count": 1,
   "metadata": {},
   "outputs": [],
   "source": [
    "import matplotlib.pyplot as plt\n",
    "import seaborn as sns\n",
    "import tqdm\n",
    "import os\n",
    "\n",
    "import numpy as np\n",
    "from scipy.stats import truncnorm, norm\n",
    "import random\n",
    "\n",
    "from tvla_semirandom import *\n"
   ]
  },
  {
   "cell_type": "code",
   "execution_count": 2,
   "metadata": {},
   "outputs": [
    {
     "name": "stdout",
     "output_type": "stream",
     "text": [
      "  0 add_round_key   f501bbb5707f53bf41557d334afc4dc5\n",
      "  1 sub_bytes       22b5455319334e62709a625412a121d3\n",
      "  1 shift_rows      93d56eedd4c32faa51b8aa20c932fd66\n",
      "  1 mix_columns     93c3aa66d4b8fded51326eaac9d52f20\n",
      "  1 add_round_key   af8db50b704ea1e3302d5ae0e22922fa\n",
      "  2 sub_bytes       35690c8783e605b2f24ae1d67813f5da\n",
      "  2 shift_rows      96f9fe17ec8e6b3789d6f8f6bc7de657\n",
      "  2 mix_columns     968ef857ecd6e617897dfe37bcf96bf6\n",
      "  2 add_round_key   11d50a79537dd431475d4a6dee1e92ba\n",
      "  3 sub_bytes       093f044db83f7e546e785b3e5d0154c9\n",
      "  3 shift_rows      0175f2e36c75f3209fbc39b24c7c20dd\n",
      "  3 mix_columns     017539dd6cbc20e39f7cf2204c75f3b2\n",
      "  3 add_round_key   797d7aeec48caef5734a7c74461a092d\n",
      "  4 sub_bytes       a523fbb7f39085c96d73461beb3cf531\n",
      "  4 shift_rows      06260fa90d6097dd3c8f5aafe9ebe6c7\n",
      "  4 mix_columns     06605ac70d8fe6a93ceb0fdde92697af\n",
      "  4 add_round_key   31ef80a5df90b5378c3db5019ba810d4\n",
      "  5 sub_bytes       12019d69cb6283c786f6b99e3c45e057\n",
      "  5 shift_rows      c97c5ef91faaecc64442560beb6ee15b\n",
      "  5 mix_columns     c9aa565b1f42e1f9446e5ec6eb7cec0b\n",
      "  5 add_round_key   6127220ae05a946ba2bcc76bae3749a0\n",
      "  6 sub_bytes       0745d39a92ca530bdae70c94718172dc\n",
      "  6 shift_rows      c56e66b84f74ed2b5794fe22a30c4086\n",
      "  6 mix_columns     c574fe864f9440b8570c662ba36eed22\n",
      "  6 add_round_key   75b2c7c9c104886ef7ceeac520716a39\n",
      "  7 sub_bytes       7d3226c7bb14ae00f5850754fd8cbcd4\n",
      "  7 shift_rows      ff23f7c6eafae463e697c52054646548\n",
      "  7 mix_columns     fffac548ea9765c6e664f7635423e420\n",
      "  7 add_round_key   7d0c4cb5ceb6e640ef4fd2640905c47b\n",
      "  8 sub_bytes       617af87aa8d074e18b62ad54b0d56da6\n",
      "  8 shift_rows      efda41dac27092f83daa9520e7033c24\n",
      "  8 mix_columns     ef709524c2aa3cda3d0341f8e7da9220\n",
      "  8 add_round_key   e48fc2879c136564c600afee12c5623a\n",
      "  9 sub_bytes       082ab71e16d0825c28ee37e645fb53ef\n",
      "  9 shift_rows      30e5a9724770134a34289a8e6e0feddf\n",
      "  9 mix_columns     30709adf4728ed72340fa94a6ee5138e\n",
      "  9 add_round_key   b5ba151f694938e89a80ac6e75042443\n",
      " 10 sub_bytes       f0d863dda6e8a912bbcfa59c03751c64\n",
      " 10 shift_rows      8c61fbc1249bd3c9ea8a06de7b9d9c43\n",
      " 10 add_round_key   8c9b0643248a9cc1ea9dfbc97b61d3de\n",
      "  5 mix_columns     c9aa565b1f42e1f9446e5ec6eb7cec0b\n",
      "  5 add_round_key   6127220ae05a946ba2bcc76bae3749a0\n",
      "  6 sub_bytes       0745d39a92ca530bdae70c94718172dc\n",
      "  6 shift_rows      c56e66b84f74ed2b5794fe22a30c4086\n",
      "  6 mix_columns     c574fe864f9440b8570c662ba36eed22\n",
      "  6 add_round_key   75b2c7c9c104886ef7ceeac520716a39\n",
      "  7 sub_bytes       7d3226c7bb14ae00f5850754fd8cbcd4\n",
      "  7 shift_rows      ff23f7c6eafae463e697c52054646548\n",
      "  7 mix_columns     fffac548ea9765c6e664f7635423e420\n",
      "  7 add_round_key   7d0c4cb5ceb6e640ef4fd2640905c47b\n",
      "  8 sub_bytes       617af87aa8d074e18b62ad54b0d56da6\n",
      "  8 shift_rows      efda41dac27092f83daa9520e7033c24\n",
      "  8 mix_columns     ef709524c2aa3cda3d0341f8e7da9220\n",
      "  8 add_round_key   e48fc2879c136564c600afee12c5623a\n",
      "  9 sub_bytes       082ab71e16d0825c28ee37e645fb53ef\n",
      "  9 shift_rows      30e5a9724770134a34289a8e6e0feddf\n",
      "  9 mix_columns     30709adf4728ed72340fa94a6ee5138e\n",
      "  9 add_round_key   b5ba151f694938e89a80ac6e75042443\n",
      " 10 sub_bytes       f0d863dda6e8a912bbcfa59c03751c64\n",
      " 10 shift_rows      8c61fbc1249bd3c9ea8a06de7b9d9c43\n",
      " 10 add_round_key   8c9b0643248a9cc1ea9dfbc97b61d3de\n",
      "key        d7b4fee6694c1ddd31cf1f67585d6c16\n",
      "plain      f501bbb5707f53bf41557d334afc4dc5\n",
      "ciph1      5cfebcb93b4eb7c1d416d93b339bc90b\n",
      "ciph2      5cfebcb93b4eb7c1d416d93b339bc90b\n",
      "ciph3      5cfebcb93b4eb7c1d416d93b339bc90b\n"
     ]
    }
   ],
   "source": [
    "from Cryptodome.Cipher import AES\n",
    "\n",
    "key = bytes.fromhex('d7b4fee6694c1ddd31cf1f67585d6c16')\n",
    "plain = bytes.fromhex('f501bbb5707f53bf41557d334afc4dc5')\n",
    "ciph1 = AESSemi(key, print_states=True).encrypt_block(plain)\n",
    "bias_state = bytes.fromhex('c9aa565b1f42e1f9446e5ec6eb7cec0b')\n",
    "ciph2 = AESSemi(key, print_states=True).partial_encrypt_block(5, 'mix_columns', bias_state)\n",
    "ciph3 = AES.new(key, AES.MODE_ECB).encrypt(plain)\n",
    "print(f'{\"key\":10s} {key.hex()}')\n",
    "print(f'{\"plain\":10s} {plain.hex()}')\n",
    "print(f'{\"ciph1\":10s} {ciph1.hex()}')\n",
    "print(f'{\"ciph2\":10s} {ciph2.hex()}')\n",
    "print(f'{\"ciph3\":10s} {ciph3.hex()}')\n",
    "assert ciph1 == ciph2 == ciph3"
   ]
  },
  {
   "cell_type": "code",
   "execution_count": 3,
   "metadata": {},
   "outputs": [
    {
     "name": "stderr",
     "output_type": "stream",
     "text": [
      "100%|██████████| 10000/10000 [00:04<00:00, 2047.82it/s]\n"
     ]
    }
   ],
   "source": [
    "\n",
    "key = os.urandom(16)\n",
    "tvla_generator = aes128_semi_random_generator(key, 0, 8, 5, 'mix_columns')\n",
    "for _ in tqdm.trange(10_000):\n",
    "    (plain, cipher) = next(tvla_generator)"
   ]
  },
  {
   "cell_type": "code",
   "execution_count": null,
   "metadata": {},
   "outputs": [],
   "source": [
    "data = norm(loc=128/2, scale=np.sqrt(128/4)).rvs(10_000*100)\n",
    "data_biased = [next(random_hw_normal(50, 65, 128)) for _ in range(6500*100)]"
   ]
  },
  {
   "cell_type": "code",
   "execution_count": 31,
   "metadata": {},
   "outputs": [
    {
     "data": {
      "text/plain": [
       "<Axes: ylabel='Count'>"
      ]
     },
     "execution_count": 31,
     "metadata": {},
     "output_type": "execute_result"
    },
    {
     "data": {
      "image/png": "[encoded data removed]",
      "text/plain": [
       "<Figure size 640x480 with 1 Axes>"
      ]
     },
     "metadata": {},
     "output_type": "display_data"
    }
   ],
   "source": [
    "\n",
    "sns.histplot(\n",
    "    {\n",
    "        'norm': data, \n",
    "        'truncnorm': data_biased\n",
    "    },\n",
    "    binrange=(0,128), bins=64, multiple='dodge')"
   ]
  }
 ],
 "metadata": {
  "kernelspec": {
   "display_name": "Python 3",
   "language": "python",
   "name": "python3"
  },
  "language_info": {
   "codemirror_mode": {
    "name": "ipython",
    "version": 3
   },
   "file_extension": ".py",
   "mimetype": "text/x-python",
   "name": "python",
   "nbconvert_exporter": "python",
   "pygments_lexer": "ipython3",
   "version": "3.10.6"
  },
  "orig_nbformat": 4,
  "vscode": {
   "interpreter": {
    "hash": "e7370f93d1d0cde622a1f8e1c04877d8463912d04d973331ad4851f04de6915a"
   }
  }
 },
 "nbformat": 4,
 "nbformat_minor": 2
}
